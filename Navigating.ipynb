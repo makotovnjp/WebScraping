{
 "cells": [
  {
   "cell_type": "markdown",
   "metadata": {},
   "source": [
    "## Navigating with Beautiful Soup"
   ]
  },
  {
   "cell_type": "markdown",
   "metadata": {},
   "source": [
    "## going down"
   ]
  },
  {
   "cell_type": "code",
   "execution_count": 1,
   "metadata": {},
   "outputs": [
    {
     "name": "stdout",
     "output_type": "stream",
     "text": [
      "<title>\n",
      "            The Dormouse's story\n",
      "        </title>\n"
     ]
    }
   ],
   "source": [
    "from bs4 import BeautifulSoup\n",
    "\n",
    "def read_file():\n",
    "    file = open('three-sisters.html')\n",
    "    data = file.read()\n",
    "    file.close()\n",
    "    return data\n",
    "\n",
    "soup = BeautifulSoup(read_file(), 'lxml')\n",
    "\n",
    "# example -- direct access\n",
    "title = soup.title\n",
    "print(title)"
   ]
  },
  {
   "cell_type": "markdown",
   "metadata": {
    "collapsed": true
   },
   "source": [
    "### Content and children method"
   ]
  },
  {
   "cell_type": "code",
   "execution_count": 2,
   "metadata": {},
   "outputs": [
    {
     "name": "stdout",
     "output_type": "stream",
     "text": [
      "\n",
      "\n",
      "<b></b>\n",
      "\n",
      "\n",
      "<p class=\"title\">\n",
      "<b>\n",
      "                The Dormouse's story\n",
      "            </b>\n",
      "</p>\n",
      "\n",
      "\n",
      "<p class=\"story\">\n",
      "            Once upon a time there were three little sisters; and their names were\n",
      "            <a class=\"sister\" href=\"http://example.com/elsie\" id=\"link1\">\n",
      "                Elsie\n",
      "            </a>\n",
      "            ,\n",
      "            <a class=\"sister\" href=\"http://example.com/lacie\" id=\"link2\">\n",
      "                Lacie\n",
      "            </a>\n",
      "                and\n",
      "            <a class=\"sister\" href=\"http://example.com/tillie\" id=\"link2\">\n",
      "                Tillie\n",
      "            </a>\n",
      "                ; and they lived at the bottom of a well.\n",
      "        </p>\n",
      "\n",
      "\n",
      "<p class=\"story\">\n",
      "<b>\n",
      "                The End\n",
      "            </b>\n",
      "</p>\n",
      "\n",
      "\n"
     ]
    }
   ],
   "source": [
    "# tag.contents -- return a list of children\n",
    "body = soup.body\n",
    "\n",
    "for child in body.contents:\n",
    "    #print(child if child is not None else '')\n",
    "    pass\n",
    "\n",
    "#.children  -- returns an iterator : use less memory than body.contents\n",
    "for child in body.children:\n",
    "    print(child if child is not None else '')\n",
    "    pass"
   ]
  },
  {
   "cell_type": "markdown",
   "metadata": {},
   "source": [
    "### descendants method"
   ]
  },
  {
   "cell_type": "code",
   "execution_count": 3,
   "metadata": {},
   "outputs": [
    {
     "name": "stdout",
     "output_type": "stream",
     "text": [
      "0\n",
      "\\n\n",
      "1\n",
      "<title>\n",
      "            The Dormouse's story\n",
      "        </title>\n",
      "2\n",
      "\n",
      "            The Dormouse's story\n",
      "        \n",
      "3\n",
      "\\n\n"
     ]
    }
   ],
   "source": [
    "#tag.contents : return direct children. Navigable string is not a direct child of head\n",
    "#descendants method: returns all the children\n",
    "for index, child in enumerate(soup.head.descendants):\n",
    "    print(index)\n",
    "    print(child if child != '\\n' else '\\\\n')\n"
   ]
  },
  {
   "cell_type": "markdown",
   "metadata": {},
   "source": [
    "## Going Up\n",
    "\n",
    "1. parent method\n",
    "2. parents method : return a list (generator) "
   ]
  },
  {
   "cell_type": "code",
   "execution_count": 5,
   "metadata": {},
   "outputs": [
    {
     "name": "stdout",
     "output_type": "stream",
     "text": [
      "p\n",
      "body\n",
      "html\n",
      "[document]\n"
     ]
    }
   ],
   "source": [
    "link = soup.a\n",
    "\n",
    "for parent in link.parents:\n",
    "    print(parent.name)"
   ]
  },
  {
   "cell_type": "markdown",
   "metadata": {},
   "source": [
    "## Going Sideways\n",
    "\n",
    " allow us to move sideways in our parse\n",
    " 1. next_sibling\n",
    " 2. previous_sibling"
   ]
  },
  {
   "cell_type": "code",
   "execution_count": 8,
   "metadata": {},
   "outputs": [
    {
     "name": "stdout",
     "output_type": "stream",
     "text": [
      "<p class=\"story\">\n",
      "            Once upon a time there were three little sisters; and their names were\n",
      "            <a class=\"sister\" href=\"http://example.com/elsie\" id=\"link1\">\n",
      "                Elsie\n",
      "            </a>\n",
      "            ,\n",
      "            <a class=\"sister\" href=\"http://example.com/lacie\" id=\"link2\">\n",
      "                Lacie\n",
      "            </a>\n",
      "                and\n",
      "            <a class=\"sister\" href=\"http://example.com/tillie\" id=\"link2\">\n",
      "                Tillie\n",
      "            </a>\n",
      "                ; and they lived at the bottom of a well.\n",
      "        </p>\n",
      "<b></b>\n"
     ]
    }
   ],
   "source": [
    "#next_sibling\n",
    "p = soup.body.p\n",
    "print(p.next_sibling.next_sibling)\n",
    "\n",
    "#previous_sibling\n",
    "print(p.previous_sibling.previous_sibling)"
   ]
  },
  {
   "cell_type": "markdown",
   "metadata": {},
   "source": [
    "## Regular Expressions "
   ]
  },
  {
   "cell_type": "code",
   "execution_count": null,
   "metadata": {
    "collapsed": true
   },
   "outputs": [],
   "source": []
  }
 ],
 "metadata": {
  "kernelspec": {
   "display_name": "Python 3",
   "language": "python",
   "name": "python3"
  },
  "language_info": {
   "codemirror_mode": {
    "name": "ipython",
    "version": 3
   },
   "file_extension": ".py",
   "mimetype": "text/x-python",
   "name": "python",
   "nbconvert_exporter": "python",
   "pygments_lexer": "ipython3",
   "version": "3.6.3"
  }
 },
 "nbformat": 4,
 "nbformat_minor": 2
}
