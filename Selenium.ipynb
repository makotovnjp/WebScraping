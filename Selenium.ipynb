{
 "cells": [
  {
   "cell_type": "markdown",
   "metadata": {},
   "source": [
    "## The way to scrape with\n",
    "1. click\n",
    "2. Ajax\n",
    "3. input text\n",
    "\n",
    "## Chrome Driver\n",
    "you need a “driver”, which is a small program that allows Selenium to “drive” your browser. This driver is browser-specific, so first we need to choose which browser we want to use. For this course, we will use Chrome, precisely ChromeDriver\n",
    "\n",
    "## Intro selenium"
   ]
  },
  {
   "cell_type": "code",
   "execution_count": null,
   "metadata": {
    "collapsed": true
   },
   "outputs": [],
   "source": []
  }
 ],
 "metadata": {
  "kernelspec": {
   "display_name": "Python 3",
   "language": "python",
   "name": "python3"
  },
  "language_info": {
   "codemirror_mode": {
    "name": "ipython",
    "version": 3
   },
   "file_extension": ".py",
   "mimetype": "text/x-python",
   "name": "python",
   "nbconvert_exporter": "python",
   "pygments_lexer": "ipython3",
   "version": "3.6.3"
  }
 },
 "nbformat": 4,
 "nbformat_minor": 2
}
