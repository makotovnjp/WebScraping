{
 "cells": [
  {
   "cell_type": "markdown",
   "metadata": {},
   "source": [
    "1. maching chracters or finding tags or finding data through our parse tree\n",
    ". ^ $ * + ? { } [ ] \\ | ( )\n",
    "\n",
    "2. The sequence\n",
    "\n",
    "prog = re.compile(pattern)\n",
    "result = prog.match(string)\n",
    "is equivalent to\n",
    "\n",
    "result = re.match(pattern, string)\n",
    "but using re.compile() and saving the resulting regular expression object for reuse is more efficient when the expression will be used several times in a single program.\n"
   ]
  },
  {
   "cell_type": "code",
   "execution_count": 17,
   "metadata": {},
   "outputs": [
    {
     "name": "stdout",
     "output_type": "stream",
     "text": [
      "None\n"
     ]
    }
   ],
   "source": [
    "import re\n",
    "\n",
    "prog = re.compile('a{6}?')\n",
    "result = prog.match('')\n",
    "\n",
    "print(result)"
   ]
  },
  {
   "cell_type": "markdown",
   "metadata": {
    "collapsed": true
   },
   "source": [
    "## Speacial sequences"
   ]
  },
  {
   "cell_type": "code",
   "execution_count": 12,
   "metadata": {},
   "outputs": [
    {
     "name": "stdout",
     "output_type": "stream",
     "text": [
      "<_sre.SRE_Match object; span=(0, 1), match='*'>\n"
     ]
    }
   ],
   "source": [
    "import re\n",
    "\n",
    "# special sequences\n",
    "\n",
    "# \\d        -- matches any decimal digit --     [0-9]\n",
    "\n",
    "regex = re.compile('\\d')\n",
    "\n",
    "# \\D        -- matches any non-digit character  -- [^0-9]\n",
    "\n",
    "regex = re.compile('\\D')\n",
    "\n",
    "# \\s        -- matches any whitespace character\n",
    "\n",
    "regex = re.compile('\\s')\n",
    "\n",
    "# \\S        -- matches any non-whitespace character\n",
    "\n",
    "regex = re.compile('\\S')\n",
    "\n",
    "# \\w        -- matches any alphanumeric character -- [a-zA-Z0-9_]\n",
    "\n",
    "regex = re.compile('\\w')\n",
    "\n",
    "# \\W        -- matches any non-alphanumeric character -- [^ a-zA-Z0-9_]\n",
    "\n",
    "regex = re.compile('\\W')"
   ]
  },
  {
   "cell_type": "markdown",
   "metadata": {
    "collapsed": true
   },
   "source": [
    "## Repeating"
   ]
  },
  {
   "cell_type": "code",
   "execution_count": 18,
   "metadata": {},
   "outputs": [
    {
     "name": "stdout",
     "output_type": "stream",
     "text": [
      "<_sre.SRE_Match object; span=(0, 3), match='cba'>\n",
      "<_sre.SRE_Match object; span=(0, 1), match='a'>\n",
      "None\n"
     ]
    }
   ],
   "source": [
    "import re\n",
    "\n",
    "# difference from * -- 0 - infinity         + 1 - infinity\n",
    "\n",
    "regex = re.compile('[a-c]*')\n",
    "print(regex.match('cba'))\n",
    "\n",
    "regex = re.compile('a+')\n",
    "print(regex.match('a'))\n",
    "\n",
    "regex = re.compile('a?b')           # min - 0       max - 1\n",
    "print(regex.match('aab')) # None\n",
    "\n",
    "\n",
    "# {m,n}    m and n are integer values   -- This qualifier means there must be at least m repetitions, and at most n\n",
    "\n",
    "regex = re.compile('a{2,4}')            # aa aaa aaaa\n",
    "\n",
    "#print(regex.match('aaaaa'))\n",
    "\n",
    "# * {0,}\n",
    "# + {1,}\n",
    "\n",
    "# ^ character   -- says that the string should start with\n",
    "regex = re.compile('^abc')\n",
    "\n",
    "# | character -- is the or operator\n",
    "\n",
    "regex = re.compile('a|b')\n",
    "\n",
    "# $ character -- matches the end of line\n",
    "\n",
    "regex = re.compile('abc$')"
   ]
  },
  {
   "cell_type": "markdown",
   "metadata": {},
   "source": [
    "## Raw string"
   ]
  },
  {
   "cell_type": "markdown",
   "metadata": {},
   "source": [
    "string = 'This is a\\nnormal string'\n",
    "rawString = r'and this is a\\nraw string'\n",
    "print(string)\n",
    "print(rawString)"
   ]
  },
  {
   "cell_type": "markdown",
   "metadata": {},
   "source": [
    "## Difference of match, search, findall\n",
    "1. The way the match() method works is that it will only find matches if they occur at the start of the string being searched.\n",
    "\n",
    "2. search() doesn’t restrict us to only finding matches at the beginning of the string, so searching for ‘cat’ in our example string finds a match\n",
    "\n",
    "3. findall(): get a list of all matching patterns"
   ]
  },
  {
   "cell_type": "code",
   "execution_count": 30,
   "metadata": {},
   "outputs": [
    {
     "name": "stdout",
     "output_type": "stream",
     "text": [
      "dog\n",
      "None\n",
      "cat\n",
      "['dog', 'dog']\n"
     ]
    }
   ],
   "source": [
    "match = re.match(r'dog', 'dog cat dog')\n",
    "print(match.group(0))\n",
    "\n",
    "match2 = re.match(r'cat', 'dog cat dog')\n",
    "print(match2)\n",
    "\n",
    "search = re.search(r'cat', 'dog cat dog')\n",
    "print(search.group(0))\n",
    "\n",
    "find = re.findall(r'dog', 'dog cat dog')\n",
    "print(find)"
   ]
  },
  {
   "cell_type": "markdown",
   "metadata": {},
   "source": [
    "## Group\n",
    "\n",
    "1. match objects come in very handy when working with grouping.\n",
    "\n",
    "2. We can Grouping by Name Using match.group"
   ]
  },
  {
   "cell_type": "code",
   "execution_count": 40,
   "metadata": {},
   "outputs": [
    {
     "name": "stdout",
     "output_type": "stream",
     "text": [
      "Doe\n",
      "John\n"
     ]
    }
   ],
   "source": [
    "contactInfo = 'Doe, John: 555-1212'\n",
    "match = re.search(r'(\\w+), (\\w+): (\\S+)', contactInfo)\n",
    "print(match.group(1))\n",
    "\n",
    "match = re.search(r'(?P<last>\\w+), (?P<first>\\w+): (?P<phone>\\S+)', contactInfo)\n",
    "print(match.group('first'))\n"
   ]
  },
  {
   "cell_type": "code",
   "execution_count": null,
   "metadata": {
    "collapsed": true
   },
   "outputs": [],
   "source": []
  }
 ],
 "metadata": {
  "kernelspec": {
   "display_name": "Python 3",
   "language": "python",
   "name": "python3"
  },
  "language_info": {
   "codemirror_mode": {
    "name": "ipython",
    "version": 3
   },
   "file_extension": ".py",
   "mimetype": "text/x-python",
   "name": "python",
   "nbconvert_exporter": "python",
   "pygments_lexer": "ipython3",
   "version": "3.6.3"
  }
 },
 "nbformat": 4,
 "nbformat_minor": 2
}
