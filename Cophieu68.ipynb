{
 "cells": [
  {
   "cell_type": "code",
   "execution_count": null,
   "metadata": {},
   "outputs": [],
   "source": [
    "from selenium import webdriver      # imports\n",
    "from time import sleep\n",
    "from bs4 import BeautifulSoup\n",
    "import config\n",
    "\n",
    "print(config.username)\n",
    "\n",
    "# make a webdriver object   -    chrome driver path for my system -- >    /Users/waqarjoyia/Downloads/chromedriver\n",
    "driver = webdriver.Chrome('./chromedriver')\n",
    "\n",
    "# open some page using get method       - url -- > parameters\n",
    "driver.get('http://www.cophieu68.vn/')\n",
    "\n",
    "# click Đăng nhập\n",
    "login_button = driver.find_element_by_link_text(\"Đăng nhập\")\n",
    "login_button.click()\n",
    "sleep(5)\n",
    "\n",
    "# login page\n",
    "driver.page_source\n",
    "soup = BeautifulSoup(driver.page_source,'lxml')\n",
    "#print(soup.prettify())\n",
    "\n",
    "# put in username and tpassword\n",
    "form = driver.find_element_by_name('frmlogin')\n",
    "print(form)\n",
    "username = driver.find_element_by_name('username')\n",
    "password = driver.find_element_by_name('tpassword')\n",
    "username.send_keys(config.username)\n",
    "password.send_keys(config.password)\n",
    "form.submit()\n",
    "sleep(30)\n",
    "\n",
    "# close webdriver object\n",
    "\n",
    "driver.close()"
   ]
  },
  {
   "cell_type": "code",
   "execution_count": null,
   "metadata": {
    "collapsed": true
   },
   "outputs": [],
   "source": []
  }
 ],
 "metadata": {
  "kernelspec": {
   "display_name": "Python 3",
   "language": "python",
   "name": "python3"
  },
  "language_info": {
   "codemirror_mode": {
    "name": "ipython",
    "version": 3
   },
   "file_extension": ".py",
   "mimetype": "text/x-python",
   "name": "python",
   "nbconvert_exporter": "python",
   "pygments_lexer": "ipython3",
   "version": "3.6.3"
  }
 },
 "nbformat": 4,
 "nbformat_minor": 2
}
