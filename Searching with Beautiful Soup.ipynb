{
 "cells": [
  {
   "cell_type": "code",
   "execution_count": 2,
   "metadata": {},
   "outputs": [
    {
     "name": "stdout",
     "output_type": "stream",
     "text": [
      "[<a class=\"sister\" href=\"http://example.com/elsie\" id=\"link1\">\n",
      "                Elsie\n",
      "            </a>, <a class=\"sister\" href=\"http://example.com/lacie\" id=\"link2\">\n",
      "                Lacie\n",
      "            </a>, <a class=\"sister\" href=\"http://example.com/tillie\" id=\"link2\">\n",
      "                Tillie\n",
      "            </a>]\n",
      "body\n",
      "b\n",
      "b\n",
      "b\n",
      "p\n",
      "p\n",
      "a\n",
      "a\n",
      "a\n",
      "p\n"
     ]
    }
   ],
   "source": [
    "from bs4 import BeautifulSoup\n",
    "import re\n",
    "\n",
    "def read_file():\n",
    "    file = open('three-sisters.html')\n",
    "    data = file.read()\n",
    "    file.close()\n",
    "    return data\n",
    "\n",
    "soup = BeautifulSoup(read_file(),'lxml')\n",
    "\n",
    "# most popular methods\n",
    "\n",
    "# find()\n",
    "# find_all()        -- to keep it simple for now, it takes the tag name as parameter\n",
    "\n",
    "# Kinds of filters which we can use to retrieve tags - filters sent as parameter to find/find_all methods\n",
    "\n",
    "# string\n",
    "\n",
    "print(soup.find_all('a'))\n",
    "\n",
    "# regular expression\n",
    "\n",
    "# tag names start with b\n",
    "\n",
    "regex = re.compile('^b')\n",
    "\n",
    "for tag in soup.find_all(regex):\n",
    "    print(tag.name)\n",
    "    pass\n",
    "\n",
    "\n",
    "# tag names contains t\n",
    "\n",
    "regex = re.compile('t')\n",
    "\n",
    "for tag in soup.find_all(regex):\n",
    "    #print(tag.name)\n",
    "    pass\n",
    "\n",
    "\n",
    "# list\n",
    "\n",
    "# all a and b tags\n",
    "\n",
    "for tag in soup.find_all(['a','b']):\n",
    "    #print(tag.name)\n",
    "    pass\n",
    "\n",
    "\n",
    "# function\n",
    "\n",
    "# just giving an example here - we'll discuss this more when we implement find_all\n",
    "\n",
    "def has_class(tag):\n",
    "    return tag.has_attr('class')\n",
    "\n",
    "for tag in soup.find_all(has_class):\n",
    "    print(tag.name)\n",
    "\n",
    "\n"
   ]
  },
  {
   "cell_type": "code",
   "execution_count": 3,
   "metadata": {},
   "outputs": [
    {
     "name": "stdout",
     "output_type": "stream",
     "text": [
      "[<a class=\"sister\" href=\"http://example.com/elsie\" id=\"link1\">\n",
      "                Elsie\n",
      "            </a>, <a class=\"sister\" href=\"http://example.com/lacie\" id=\"link2\">\n",
      "                Lacie\n",
      "            </a>]\n"
     ]
    }
   ],
   "source": [
    "# Signature: find_all(name, attrs, recursive, string, limit, **kwargs)\n",
    "\n",
    "# name parameter\n",
    "\n",
    "# regex object - string - True - function\n",
    "\n",
    "a_tags = soup.find_all('a')\n",
    "\n",
    "# attrs parameter\n",
    "\n",
    "# dicitonary\n",
    "\n",
    "attr = {'class':'story'}\n",
    "first_a = soup.find_all(attrs=attr)\n",
    "#print(first_a)\n",
    "\n",
    "# limit parameter\n",
    "\n",
    "a_tags = soup.find_all('a',limit=2)\n",
    "print(a_tags)"
   ]
  },
  {
   "cell_type": "code",
   "execution_count": 6,
   "metadata": {},
   "outputs": [
    {
     "name": "stdout",
     "output_type": "stream",
     "text": [
      "[\"\\n            The Dormouse's story\\n        \", \"\\n                The Dormouse's story\\n            \"]\n",
      "[]\n"
     ]
    }
   ],
   "source": [
    "# string parameter: string or regex\n",
    "\n",
    "\n",
    "regex = re.compile('story')\n",
    "\n",
    "tag = soup.find_all(string=regex)\n",
    "print(tag)\n",
    "\n",
    "# **kwargs arguments\n",
    "\n",
    "tags = soup.find_all(class_='story')\n",
    "for tag in tags:\n",
    "    #print(tag)\n",
    "    pass\n",
    "\n",
    "\n",
    "# to write the class attribute of a tag - use       class_          because simple class is a keyword in Python\n",
    "\n",
    "\n",
    "# recursive parameter: false -- only search for direct children of html\n",
    "\n",
    "\n",
    "title = soup.find_all('title',recursive=False)\n",
    "\n",
    "print(title)"
   ]
  },
  {
   "cell_type": "markdown",
   "metadata": {},
   "source": [
    "## Find function"
   ]
  },
  {
   "cell_type": "code",
   "execution_count": 7,
   "metadata": {},
   "outputs": [
    {
     "name": "stdout",
     "output_type": "stream",
     "text": [
      "<a class=\"sister\" href=\"http://example.com/elsie\" id=\"link1\">\n",
      "                Elsie\n",
      "            </a>\n"
     ]
    }
   ],
   "source": [
    "# Signature: find(name, attrs, recursive, string, **kwargs)     - limit\n",
    "\n",
    "# returns a single object if found      -- in case of multiple objects, it returns the first one it finds\n",
    "\n",
    "tag = soup.find('a')\n",
    "print(tag)"
   ]
  },
  {
   "cell_type": "code",
   "execution_count": null,
   "metadata": {
    "collapsed": true
   },
   "outputs": [],
   "source": []
  }
 ],
 "metadata": {
  "kernelspec": {
   "display_name": "Python 3",
   "language": "python",
   "name": "python3"
  },
  "language_info": {
   "codemirror_mode": {
    "name": "ipython",
    "version": 3
   },
   "file_extension": ".py",
   "mimetype": "text/x-python",
   "name": "python",
   "nbconvert_exporter": "python",
   "pygments_lexer": "ipython3",
   "version": "3.6.3"
  }
 },
 "nbformat": 4,
 "nbformat_minor": 2
}
